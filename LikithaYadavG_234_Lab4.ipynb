{
 "cells": [
  {
   "cell_type": "code",
   "execution_count": 12,
   "metadata": {},
   "outputs": [
    {
     "name": "stdout",
     "output_type": "stream",
     "text": [
      "food is parent class\n",
      "Single inheritance achieved\n",
      "food is parent class\n",
      "Multilevel inheritance achieved \n",
      "Multiple inheritance achieved\n",
      "food is parent class\n",
      "Hierarchical inheritance achieved\n",
      "All the inheritance achieved in the Food Mangement System\n"
     ]
    }
   ],
   "source": [
    "\n",
    "class Food:\n",
    "    def __init__(self):\n",
    "        print(\"food is parent class\")\n",
    "\n",
    "class Menu(Food):\n",
    "    def __init__(self):\n",
    "        Food.__init__(self)\n",
    "        print(\"Single inheritance achieved\")\n",
    "\n",
    "class Order(Food):\n",
    "    def __init__(self):\n",
    "        Food.__init__(self)\n",
    "        print(\"Multilevel inheritance achieved \")\n",
    "    \n",
    "\n",
    "class Chef(Food):\n",
    "    def __init__(self):\n",
    "        Food.__init__(self)\n",
    "        print(\"Hierarchical inheritance achieved\")\n",
    "\n",
    "class Customer(Menu, Order):\n",
    "    def __init__(self):\n",
    "        Menu.__init__(self)\n",
    "        Order.__init__(self)\n",
    "        print(\"Multiple inheritance achieved\")\n",
    "\n",
    "class FoodManagementSystem(Customer, Chef):\n",
    "    def __init__(self):\n",
    "        Customer.__init__(self)\n",
    "        Chef.__init__(self)\n",
    "        print(\"All the inheritance achieved in the Food Mangement System\")\n",
    "\n",
    "obj = FoodManagementSystem()\n",
    "#output"
   ]
  }
 ],
 "metadata": {
  "kernelspec": {
   "display_name": "Python 3",
   "language": "python",
   "name": "python3"
  },
  "language_info": {
   "codemirror_mode": {
    "name": "ipython",
    "version": 3
   },
   "file_extension": ".py",
   "mimetype": "text/x-python",
   "name": "python",
   "nbconvert_exporter": "python",
   "pygments_lexer": "ipython3",
   "version": "3.11.4"
  },
  "orig_nbformat": 4
 },
 "nbformat": 4,
 "nbformat_minor": 2
}
