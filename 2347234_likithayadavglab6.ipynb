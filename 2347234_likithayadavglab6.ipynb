{
 "cells": [
  {
   "cell_type": "markdown",
   "metadata": {},
   "source": [
    "Q1. Write a program using the Regular Exception and create a function that accepts a string and searches it for a valid phone number.\n",
    "Return the phone number if found.\n",
    "A valid phone number may be one of the following:\n",
    "(xxx)-xxx-xxxx\n",
    "xxx-xxx-xxxx\n"
   ]
  },
  {
   "cell_type": "code",
   "execution_count": 3,
   "metadata": {},
   "outputs": [
    {
     "ename": "SyntaxError",
     "evalue": "invalid non-printable character U+00A0 (1071690230.py, line 11)",
     "output_type": "error",
     "traceback": [
      "\u001b[1;36m  Cell \u001b[1;32mIn[3], line 11\u001b[1;36m\u001b[0m\n\u001b[1;33m    print(\"Found phone number:\", phone_number)\u001b[0m\n\u001b[1;37m                                ^\u001b[0m\n\u001b[1;31mSyntaxError\u001b[0m\u001b[1;31m:\u001b[0m invalid non-printable character U+00A0\n"
     ]
    }
   ],
   "source": [
    "import re\n",
    "def find_phone_number(text):\n",
    "    pattern = re.compile(r'(\\(\\d{3}\\)-\\d{3}-\\d{4}|\\d{3}-\\d{3}-\\d{4})')\n",
    "    match = pattern.search(text)\n",
    "    if match:\n",
    "        return match.group()\n",
    "    else:\n",
    "        return \"No valid phone number found.\"\n",
    "input_text = \"Please contact me at 987-654-3210.\"\n",
    "phone_number = find_phone_number(input_text)\n",
    "print(\"Found phone number:\",)\n"
   ]
  }
 ],
 "metadata": {
  "kernelspec": {
   "display_name": "Python 3",
   "language": "python",
   "name": "python3"
  },
  "language_info": {
   "codemirror_mode": {
    "name": "ipython",
    "version": 3
   },
   "file_extension": ".py",
   "mimetype": "text/x-python",
   "name": "python",
   "nbconvert_exporter": "python",
   "pygments_lexer": "ipython3",
   "version": "3.11.4"
  },
  "orig_nbformat": 4
 },
 "nbformat": 4,
 "nbformat_minor": 2
}
