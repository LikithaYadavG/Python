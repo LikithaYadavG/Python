{
 "cells": [
  {
   "cell_type": "code",
   "execution_count": 2,
   "metadata": {},
   "outputs": [
    {
     "name": "stdout",
     "output_type": "stream",
     "text": [
      "{'Name': 'LikithaYadavG', 'Domain': 'Food Management', 'Register': '2347234'}\n"
     ]
    }
   ],
   "source": [
    "def decode_encoded_string(stringsplit):\n",
    "    # Split the encoded string using underscores\n",
    "    parts = stringsplit.split('_')\n",
    "    \n",
    "    # Assuming the order is: name, domain name, register number\n",
    "    if len(parts) != 3:\n",
    "        return None  # Return None if the string doesn't have all three parts\n",
    "    \n",
    "    # Create a dictionary with keys 'name', 'domain', and 'register'\n",
    "    decoded_dict = {\n",
    "        'Name': parts[0],\n",
    "        'Domain': parts[1],\n",
    "        'Register': parts[2]\n",
    "    }\n",
    "    \n",
    "    return decoded_dict\n",
    "\n",
    "# Example usage\n",
    "encoded_string = \"LikithaYadavG_Food Management_2347234\"\n",
    "Output = decode_encoded_string(encoded_string)\n",
    "if Output is not None:\n",
    "    print(Output)\n",
    "else:\n",
    "    print(\"Not Defined\")\n",
    "\n"
   ]
  },
  {
   "cell_type": "markdown",
   "metadata": {},
   "source": []
  },
  {
   "cell_type": "code",
   "execution_count": null,
   "metadata": {},
   "outputs": [],
   "source": [
    "ke"
   ]
  }
 ],
 "metadata": {
  "kernelspec": {
   "display_name": "Python 3",
   "language": "python",
   "name": "python3"
  },
  "language_info": {
   "codemirror_mode": {
    "name": "ipython",
    "version": 3
   },
   "file_extension": ".py",
   "mimetype": "text/x-python",
   "name": "python",
   "nbconvert_exporter": "python",
   "pygments_lexer": "ipython3",
   "version": "3.11.4"
  },
  "orig_nbformat": 4
 },
 "nbformat": 4,
 "nbformat_minor": 2
}
