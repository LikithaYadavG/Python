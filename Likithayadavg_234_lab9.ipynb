{
 "cells": [
  {
   "cell_type": "markdown",
   "metadata": {},
   "source": [
    "Q1. Write a program to distinguish between Array Indexing and Fancy Indexing."
   ]
  },
  {
   "cell_type": "code",
   "execution_count": 1,
   "metadata": {},
   "outputs": [
    {
     "name": "stdout",
     "output_type": "stream",
     "text": [
      "Array Indexing:\n",
      "2\n",
      "Fancy Indexing:\n",
      "[2 9]\n"
     ]
    }
   ],
   "source": [
    "import numpy as np\n",
    "\n",
    "# Create a 2D array\n",
    "arr = np.array([[1, 2, 3], [4, 5, 6], [7, 8, 9]])\n",
    "\n",
    "# Array Indexing\n",
    "print(\"Array Indexing:\")\n",
    "print(arr[0][1])\n",
    "\n",
    "# Fancy Indexing\n",
    "print(\"Fancy Indexing:\")\n",
    "print(arr[[0, 2], [1, 2]]) "
   ]
  },
  {
   "cell_type": "markdown",
   "metadata": {},
   "source": [
    "Q2. Execute the 2D array Slicing."
   ]
  },
  {
   "cell_type": "code",
   "execution_count": 2,
   "metadata": {},
   "outputs": [
    {
     "name": "stdout",
     "output_type": "stream",
     "text": [
      "Slicing:\n",
      "[[2 3]\n",
      " [5 6]]\n"
     ]
    }
   ],
   "source": [
    "import numpy as np\n",
    "\n",
    "# Create a 2D array\n",
    "arr = np.array([[1, 2, 3], [4, 5, 6], [7, 8, 9]])\n",
    "\n",
    "# Slicing\n",
    "print(\"Slicing:\")\n",
    "print(arr[0:2, 1:3]) \n"
   ]
  },
  {
   "cell_type": "markdown",
   "metadata": {},
   "source": [
    "Q3. Create the 5-Dimensional arrays using ‘ndmin’."
   ]
  },
  {
   "cell_type": "code",
   "execution_count": 3,
   "metadata": {},
   "outputs": [
    {
     "name": "stdout",
     "output_type": "stream",
     "text": [
      "The created array is:\n",
      "[[[[[1 2 3 4]]]]]\n",
      "The number of dimensions of the array is: 5\n"
     ]
    }
   ],
   "source": [
    "import numpy as np\n",
    "\n",
    "# Create a 5-dimensional array\n",
    "arr = np.array([1, 2, 3, 4], ndmin=5)\n",
    "\n",
    "print(\"The created array is:\")\n",
    "print(arr)\n",
    "print(\"The number of dimensions of the array is:\", arr.ndim)"
   ]
  },
  {
   "cell_type": "markdown",
   "metadata": {},
   "source": [
    "Q4. Reshape the array from 1-D to 2-D array."
   ]
  },
  {
   "cell_type": "code",
   "execution_count": 4,
   "metadata": {},
   "outputs": [
    {
     "name": "stdout",
     "output_type": "stream",
     "text": [
      "Original array:\n",
      "[1 2 3 4 5 6]\n",
      "Reshaped array:\n",
      "[[1 2 3]\n",
      " [4 5 6]]\n"
     ]
    }
   ],
   "source": [
    "import numpy as np\n",
    "\n",
    "# Create a 1-D array\n",
    "arr = np.array([1, 2, 3, 4, 5, 6])\n",
    "\n",
    "# Reshape the array to a 2-D array\n",
    "new_arr = arr.reshape(2, 3)\n",
    "\n",
    "print(\"Original array:\")\n",
    "print(arr)\n",
    "\n",
    "print(\"Reshaped array:\")\n",
    "print(new_arr)\n"
   ]
  },
  {
   "cell_type": "markdown",
   "metadata": {},
   "source": [
    "Q5. Perform the Stack functions in Numpy arrays – Stack(), hstack(), vstack(), and dstack()."
   ]
  },
  {
   "cell_type": "code",
   "execution_count": 5,
   "metadata": {},
   "outputs": [
    {
     "name": "stdout",
     "output_type": "stream",
     "text": [
      "Stack():\n",
      "[[[1 2]\n",
      "  [3 4]]\n",
      "\n",
      " [[5 6]\n",
      "  [7 8]]]\n",
      "hstack():\n",
      "[[1 2 5 6]\n",
      " [3 4 7 8]]\n",
      "vstack():\n",
      "[[1 2]\n",
      " [3 4]\n",
      " [5 6]\n",
      " [7 8]]\n",
      "dstack():\n",
      "[[[1 5]\n",
      "  [2 6]]\n",
      "\n",
      " [[3 7]\n",
      "  [4 8]]]\n"
     ]
    }
   ],
   "source": [
    "import numpy as np\n",
    "\n",
    "# Create two 2D arrays\n",
    "a = np.array([[1, 2], [3, 4]])\n",
    "b = np.array([[5, 6], [7, 8]])\n",
    "\n",
    "# Stack the arrays using different functions\n",
    "print(\"Stack():\")\n",
    "print(np.stack((a, b), axis=0))\n",
    "\n",
    "print(\"hstack():\")\n",
    "print(np.hstack((a, b)))\n",
    "\n",
    "print(\"vstack():\")\n",
    "print(np.vstack((a, b)))\n",
    "\n",
    "print(\"dstack():\")\n",
    "print(np.dstack((a, b)))"
   ]
  },
  {
   "cell_type": "markdown",
   "metadata": {},
   "source": [
    "Q6. Perform the searchsort method in Numpy array.\n"
   ]
  },
  {
   "cell_type": "code",
   "execution_count": 6,
   "metadata": {},
   "outputs": [
    {
     "name": "stdout",
     "output_type": "stream",
     "text": [
      "Output indices to maintain sorted array: 2\n"
     ]
    }
   ],
   "source": [
    "import numpy as np\n",
    "\n",
    "# Create an input array\n",
    "arr = np.array([2, 3, 4, 5, 6])\n",
    "\n",
    "# Find the indices to maintain sorted array\n",
    "out_ind = np.searchsorted(arr, 4)\n",
    "\n",
    "print(\"Output indices to maintain sorted array:\", out_ind)"
   ]
  },
  {
   "cell_type": "markdown",
   "metadata": {},
   "source": [
    "Q7. Create Numpy Structured array using your domain features."
   ]
  },
  {
   "cell_type": "code",
   "execution_count": 8,
   "metadata": {},
   "outputs": [
    {
     "name": "stdout",
     "output_type": "stream",
     "text": [
      "The created structured array is:\n",
      "[('Apple',  95, 0.3, 0.5, 25.) ('Banana', 105, 0.4, 1.3, 27.)]\n"
     ]
    }
   ],
   "source": [
    "import numpy as np\n",
    "\n",
    "# Define the data types for the fields\n",
    "dt = np.dtype([('name', 'U20'), ('calories', 'i4'), ('fat', 'f4'), ('protein', 'f4'), ('carbs', 'f4')])\n",
    "\n",
    "# Create a structured array\n",
    "arr = np.array([('Apple', 95, 0.3, 0.5, 25), ('Banana', 105, 0.4, 1.3, 27)], dtype=dt)\n",
    "\n",
    "print(\"The created structured array is:\")\n",
    "print(arr)"
   ]
  },
  {
   "cell_type": "markdown",
   "metadata": {},
   "source": [
    "Q8. Create Data frame using List and Dictionary."
   ]
  },
  {
   "cell_type": "code",
   "execution_count": 9,
   "metadata": {},
   "outputs": [
    {
     "name": "stdout",
     "output_type": "stream",
     "text": [
      "The created DataFrame is:\n",
      "    name  age  gender\n",
      "0   John   25    Male\n",
      "1   Jane   30  Female\n",
      "2    Bob   35    Male\n",
      "3  Alice   40  Female\n"
     ]
    }
   ],
   "source": [
    "import pandas as pd\n",
    "\n",
    "# Define the data as a list of dictionaries\n",
    "data = [\n",
    "    {'name': 'John', 'age': 25, 'gender': 'Male'},\n",
    "    {'name': 'Jane', 'age': 30, 'gender': 'Female'},\n",
    "    {'name': 'Bob', 'age': 35, 'gender': 'Male'},\n",
    "    {'name': 'Alice', 'age': 40, 'gender': 'Female'}\n",
    "]\n",
    "\n",
    "# Create a DataFrame from the data\n",
    "df = pd.DataFrame(data)\n",
    "\n",
    "print(\"The created DataFrame is:\")\n",
    "print(df)"
   ]
  },
  {
   "cell_type": "markdown",
   "metadata": {},
   "source": [
    "Q9. Create Data frame on your Domain area and perform the following operations to find and eliminate the\n",
    "missing data from the dataset.\n",
    "• isnull()\n",
    "• notnull()\n",
    "• dropna()\n",
    "• fillna()\n",
    "• replace()\n",
    "• interpolate()"
   ]
  },
  {
   "cell_type": "code",
   "execution_count": 10,
   "metadata": {},
   "outputs": [
    {
     "name": "stdout",
     "output_type": "stream",
     "text": [
      "Missing data:\n",
      "     name  calories    fat  protein  carbs  sugar\n",
      "0  False     False  False    False  False  False\n",
      "1  False     False  False    False  False   True\n",
      "2  False     False  False    False  False   True\n",
      "3  False     False  False    False  False   True\n",
      "4  False     False  False    False  False   True\n",
      "5  False     False  False    False  False   True\n",
      "Non-missing data:\n",
      "    name  calories   fat  protein  carbs  sugar\n",
      "0  True      True  True     True   True   True\n",
      "1  True      True  True     True   True  False\n",
      "2  True      True  True     True   True  False\n",
      "3  True      True  True     True   True  False\n",
      "4  True      True  True     True   True  False\n",
      "5  True      True  True     True   True  False\n",
      "After dropping rows with missing data:\n",
      "     name  calories  fat  protein  carbs  sugar\n",
      "0  Apple        95  0.3      0.5     25   19.0\n",
      "After filling missing values with zero:\n",
      "     name  calories  fat  protein  carbs  sugar\n",
      "0  Apple        95  0.3      0.5     25   19.0\n",
      "After replacing missing values with the mean of the column:\n",
      "     name  calories  fat  protein  carbs  sugar\n",
      "0  Apple        95  0.3      0.5     25   19.0\n",
      "After interpolating missing values:\n",
      "     name  calories  fat  protein  carbs  sugar\n",
      "0  Apple        95  0.3      0.5     25   19.0\n"
     ]
    },
    {
     "name": "stderr",
     "output_type": "stream",
     "text": [
      "C:\\Users\\Likitha Yadav G\\AppData\\Local\\Temp\\ipykernel_20072\\2578643111.py:35: FutureWarning: DataFrame.interpolate with object dtype is deprecated and will raise in a future version. Call obj.infer_objects(copy=False) before interpolating instead.\n",
      "  df.interpolate(inplace=True)\n"
     ]
    }
   ],
   "source": [
    "import pandas as pd\n",
    "import numpy as np\n",
    "\n",
    "# Create a dictionary with food data\n",
    "food_data = {\n",
    "    'name': ['Apple', 'Banana', 'Orange', 'Mango', 'Grapes', 'Pineapple'],\n",
    "    'calories': [95, 105, 62, 135, 52, 82],\n",
    "    'fat': [0.3, 0.4, 0.2, 1.2, 0.2, 0.1],\n",
    "    'protein': [0.5, 1.3, 1.2, 1.6, 0.7, 0.9],\n",
    "    'carbs': [25, 27, 15, 30, 14, 22],\n",
    "    'sugar': [19, np.nan, np.nan, np.nan, np.nan, np.nan]\n",
    "}\n",
    "\n",
    "# Create a DataFrame from the dictionary\n",
    "df = pd.DataFrame(food_data)\n",
    "\n",
    "# Check for missing data\n",
    "print(\"Missing data:\\n\", df.isnull())\n",
    "# Check for non-missing data\n",
    "print(\"Non-missing data:\\n\", df.notnull())\n",
    "\n",
    "# Drop rows with missing data\n",
    "df.dropna(inplace=True)\n",
    "print(\"After dropping rows with missing data:\\n\", df)\n",
    "\n",
    "# Fill missing values with a specific value\n",
    "df.fillna(0, inplace=True)\n",
    "print(\"After filling missing values with zero:\\n\", df)\n",
    "\n",
    "# Replace missing values with the mean of the column\n",
    "df['sugar'].replace(np.nan, df['sugar'].mean(), inplace=True)\n",
    "print(\"After replacing missing values with the mean of the column:\\n\", df)\n",
    "\n",
    "# Interpolate missing values\n",
    "df.interpolate(inplace=True)\n",
    "print(\"After interpolating missing values:\\n\", df)"
   ]
  },
  {
   "cell_type": "markdown",
   "metadata": {},
   "source": [
    "Q10. Perform the Hierarchical Indexing in the above created dataset."
   ]
  },
  {
   "cell_type": "code",
   "execution_count": 11,
   "metadata": {},
   "outputs": [
    {
     "name": "stdout",
     "output_type": "stream",
     "text": [
      "The created DataFrame with hierarchical index is:\n",
      "           calories  fat  protein  carbs\n",
      "name                                    \n",
      "Apple            95  0.3      0.5     25\n",
      "Banana          105  0.4      1.3     27\n",
      "Orange           62  0.2      1.2     15\n",
      "Mango           135  1.2      1.6     30\n",
      "Grapes           52  0.2      0.7     14\n",
      "Pineapple        82  0.1      0.9     22\n"
     ]
    }
   ],
   "source": [
    "import pandas as pd\n",
    "\n",
    "# Create a dictionary with food data\n",
    "food_data = {\n",
    "    'name': ['Apple', 'Banana', 'Orange', 'Mango', 'Grapes', 'Pineapple'],\n",
    "    'calories': [95, 105, 62, 135, 52, 82],\n",
    "    'fat': [0.3, 0.4, 0.2, 1.2, 0.2, 0.1],\n",
    "    'protein': [0.5, 1.3, 1.2, 1.6, 0.7, 0.9],\n",
    "    'carbs': [25, 27, 15, 30, 14, 22]\n",
    "}\n",
    "\n",
    "# Create a DataFrame from the dictionary\n",
    "df = pd.DataFrame(food_data)\n",
    "\n",
    "# Set the index to be the name column\n",
    "df.set_index('name', inplace=True)\n",
    "\n",
    "print(\"The created DataFrame with hierarchical index is:\")\n",
    "print(df)"
   ]
  }
 ],
 "metadata": {
  "kernelspec": {
   "display_name": "Python 3",
   "language": "python",
   "name": "python3"
  },
  "language_info": {
   "codemirror_mode": {
    "name": "ipython",
    "version": 3
   },
   "file_extension": ".py",
   "mimetype": "text/x-python",
   "name": "python",
   "nbconvert_exporter": "python",
   "pygments_lexer": "ipython3",
   "version": "3.11.4"
  },
  "orig_nbformat": 4
 },
 "nbformat": 4,
 "nbformat_minor": 2
}
