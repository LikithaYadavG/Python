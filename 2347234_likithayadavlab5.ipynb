{
 "cells": [
  {
   "cell_type": "markdown",
   "metadata": {},
   "source": [
    "Q1. Write a program to handle the exception of ZeroDivisionError.\n"
   ]
  },
  {
   "cell_type": "code",
   "execution_count": 1,
   "metadata": {},
   "outputs": [
    {
     "name": "stdout",
     "output_type": "stream",
     "text": [
      "Cannot divide by zero.\n",
      "This block is always executed.\n"
     ]
    }
   ],
   "source": [
    "try:\n",
    "    numerator =int(input('enter the numerator'))\n",
    "    denominator = int(input('enter the denominator'))\n",
    "\n",
    "    if denominator == 0:\n",
    "        raise ZeroDivisionError(\"Cannot divide by zero.\")\n",
    "    result = numerator / denominator\n",
    "except ZeroDivisionError as e:\n",
    "    print(e)\n",
    "finally:\n",
    "    print(\"This block is always executed.\")\n"
   ]
  },
  {
   "cell_type": "markdown",
   "metadata": {},
   "source": [
    "Q2 Write a program to handle the exception of IndexError.\n"
   ]
  },
  {
   "cell_type": "code",
   "execution_count": 3,
   "metadata": {},
   "outputs": [
    {
     "name": "stdout",
     "output_type": "stream",
     "text": [
      "Index access operation completed.\n",
      "Element at index 4: 5\n"
     ]
    }
   ],
   "source": [
    "#handling indexerror\n",
    "\n",
    "def access_element(lst, index):\n",
    "    try:\n",
    "        if index >= len(lst) or index < 0:\n",
    "            raise IndexError(\"Index out of range.\")\n",
    "        element = lst[index]\n",
    "        return element\n",
    "    except IndexError as e:\n",
    "        print(f\"Error: {e}\")\n",
    "        return None\n",
    "    finally:\n",
    "        print(\"Index access operation completed.\")\n",
    "my_list = [1, 2, 3, 4, 5]\n",
    "\n",
    "index_to_access = 4\n",
    "\n",
    "result = access_element(my_list, index_to_access)\n",
    "\n",
    "if result is not None:\n",
    "    print(f\"Element at index {index_to_access}: {result}\")"
   ]
  }
 ],
 "metadata": {
  "kernelspec": {
   "display_name": "Python 3",
   "language": "python",
   "name": "python3"
  },
  "language_info": {
   "codemirror_mode": {
    "name": "ipython",
    "version": 3
   },
   "file_extension": ".py",
   "mimetype": "text/x-python",
   "name": "python",
   "nbconvert_exporter": "python",
   "pygments_lexer": "ipython3",
   "version": "3.11.4"
  },
  "orig_nbformat": 4
 },
 "nbformat": 4,
 "nbformat_minor": 2
}
